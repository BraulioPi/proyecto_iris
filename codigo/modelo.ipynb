{
 "cells": [
  {
   "cell_type": "code",
   "execution_count": 7,
   "id": "87db033d",
   "metadata": {},
   "outputs": [],
   "source": [
    "import pandas as pd\n",
    "import numpy as np\n",
    "import matplotlib.pyplot as plt\n",
    "import xgboost as xg\n",
    "import seaborn as sns\n",
    "from sklearn.ensemble import RandomForestClassifier\n",
    "from sklearn.model_selection import train_test_split\n",
    "from sklearn.metrics import classification_report\n",
    "from sklearn.metrics import plot_confusion_matrix\n",
    "from sklearn.metrics import confusion_matrix"
   ]
  },
  {
   "cell_type": "code",
   "execution_count": 24,
   "id": "e640f57a",
   "metadata": {},
   "outputs": [],
   "source": [
    "#aqui va la conexion al sql (postgress)\n",
    "df = pd.read_csv(\"../datos/Iris.csv\")\n",
    "df.columns = [i.lower() for i in df.columns]\n",
    "df = df.reset_index()\n",
    "df = df.rename(columns={\"index\":'id'})"
   ]
  },
  {
   "cell_type": "code",
   "execution_count": 26,
   "id": "64afa77c",
   "metadata": {},
   "outputs": [],
   "source": [
    "df.to_csv(\"iris.csv\",index=False)"
   ]
  },
  {
   "cell_type": "code",
   "execution_count": 23,
   "id": "1ee426c6",
   "metadata": {},
   "outputs": [
    {
     "data": {
      "text/plain": [
       "<AxesSubplot:xlabel='sepallengthcm', ylabel='petallengthcm'>"
      ]
     },
     "execution_count": 23,
     "metadata": {},
     "output_type": "execute_result"
    },
    {
     "data": {
      "image/png": "[encoded data removed]",
      "text/plain": [
       "<Figure size 432x288 with 1 Axes>"
      ]
     },
     "metadata": {
      "needs_background": "light"
     },
     "output_type": "display_data"
    }
   ],
   "source": [
    "sns.scatterplot(x=\"sepallengthcm\",y=\"petallengthcm\",hue=\"species\",data=df)"
   ]
  },
  {
   "cell_type": "code",
   "execution_count": 55,
   "id": "5a7dbcfc",
   "metadata": {},
   "outputs": [],
   "source": [
    "dic = {'Iris-setosa':0,'Iris-versicolor':1,'Iris-virginica':2}\n",
    "\n",
    "df[\"species_codi\"]  = df[\"species\"].map(dic)\n",
    "X                   = df[[\"sepallengthcm\",\"petallengthcm\"]]\n",
    "y                   = df[\"species_codi\"]\n",
    "X_train, X_test, y_train, y_test = train_test_split(X, y, test_size=0., random_state=0)"
   ]
  },
  {
   "cell_type": "code",
   "execution_count": 77,
   "id": "038e66d1",
   "metadata": {},
   "outputs": [
    {
     "name": "stdout",
     "output_type": "stream",
     "text": [
      "                 precision    recall  f1-score   support\n",
      "\n",
      "    Iris-setosa       1.00      1.00      1.00        11\n",
      "Iris-versicolor       0.93      1.00      0.96        13\n",
      " Iris-virginica       1.00      0.83      0.91         6\n",
      "\n",
      "       accuracy                           0.97        30\n",
      "      macro avg       0.98      0.94      0.96        30\n",
      "   weighted avg       0.97      0.97      0.97        30\n",
      "\n"
     ]
    },
    {
     "data": {
      "text/html": [
       "<div>\n",
       "<style scoped>\n",
       "    .dataframe tbody tr th:only-of-type {\n",
       "        vertical-align: middle;\n",
       "    }\n",
       "\n",
       "    .dataframe tbody tr th {\n",
       "        vertical-align: top;\n",
       "    }\n",
       "\n",
       "    .dataframe thead th {\n",
       "        text-align: right;\n",
       "    }\n",
       "</style>\n",
       "<table border=\"1\" class=\"dataframe\">\n",
       "  <thead>\n",
       "    <tr style=\"text-align: right;\">\n",
       "      <th></th>\n",
       "      <th>Iris-setosa</th>\n",
       "      <th>Iris-versicolor</th>\n",
       "      <th>Iris-virginica</th>\n",
       "      <th>accuracy</th>\n",
       "      <th>macro avg</th>\n",
       "      <th>weighted avg</th>\n",
       "    </tr>\n",
       "  </thead>\n",
       "  <tbody>\n",
       "    <tr>\n",
       "      <th>precision</th>\n",
       "      <td>1.0</td>\n",
       "      <td>0.928571</td>\n",
       "      <td>1.000000</td>\n",
       "      <td>0.966667</td>\n",
       "      <td>0.976190</td>\n",
       "      <td>0.969048</td>\n",
       "    </tr>\n",
       "    <tr>\n",
       "      <th>recall</th>\n",
       "      <td>1.0</td>\n",
       "      <td>1.000000</td>\n",
       "      <td>0.833333</td>\n",
       "      <td>0.966667</td>\n",
       "      <td>0.944444</td>\n",
       "      <td>0.966667</td>\n",
       "    </tr>\n",
       "    <tr>\n",
       "      <th>f1-score</th>\n",
       "      <td>1.0</td>\n",
       "      <td>0.962963</td>\n",
       "      <td>0.909091</td>\n",
       "      <td>0.966667</td>\n",
       "      <td>0.957351</td>\n",
       "      <td>0.965769</td>\n",
       "    </tr>\n",
       "    <tr>\n",
       "      <th>support</th>\n",
       "      <td>11.0</td>\n",
       "      <td>13.000000</td>\n",
       "      <td>6.000000</td>\n",
       "      <td>0.966667</td>\n",
       "      <td>30.000000</td>\n",
       "      <td>30.000000</td>\n",
       "    </tr>\n",
       "  </tbody>\n",
       "</table>\n",
       "</div>"
      ],
      "text/plain": [
       "           Iris-setosa  Iris-versicolor  Iris-virginica  accuracy  macro avg  \\\n",
       "precision          1.0         0.928571        1.000000  0.966667   0.976190   \n",
       "recall             1.0         1.000000        0.833333  0.966667   0.944444   \n",
       "f1-score           1.0         0.962963        0.909091  0.966667   0.957351   \n",
       "support           11.0        13.000000        6.000000  0.966667  30.000000   \n",
       "\n",
       "           weighted avg  \n",
       "precision      0.969048  \n",
       "recall         0.966667  \n",
       "f1-score       0.965769  \n",
       "support       30.000000  "
      ]
     },
     "execution_count": 77,
     "metadata": {},
     "output_type": "execute_result"
    },
    {
     "data": {
      "image/png": "[encoded data removed]",
      "text/plain": [
       "<Figure size 504x360 with 2 Axes>"
      ]
     },
     "metadata": {},
     "output_type": "display_data"
    }
   ],
   "source": [
    "#random forest\n",
    "clf                 = RandomForestClassifier(random_state=0)\n",
    "clf.fit(X_train, y_train)\n",
    "y_pred              = clf.predict(X_test)\n",
    "#xgboost\n",
    "xgb                 = xg.XGBClassifier()\n",
    "xgb.fit(X_train, y_train)\n",
    "y_pred_xgb          = xgb.predict(X_test)\n",
    "\n",
    "\n",
    "target_names        = ['Iris-setosa', 'Iris-versicolor', 'Iris-virginica']\n",
    "\n",
    "print(classification_report(y_test, y_pred, target_names=target_names))\n",
    "\n",
    "df_cm = pd.DataFrame(confusion_matrix(y_test, y_pred_xgb))\n",
    "sns.set(font_scale=1.4,rc={'figure.figsize':(7,5)}) # for label size\n",
    "sns.heatmap(df_cm, annot=True, annot_kws={\"size\": 16}) # font size\n",
    "\n",
    "pd.DataFrame(classification_report(y_test, y_pred_xgb, target_names=target_names, output_dict=True))\n"
   ]
  }
 ],
 "metadata": {
  "kernelspec": {
   "display_name": "Python 3.10.8 64-bit",
   "language": "python",
   "name": "python3"
  },
  "language_info": {
   "codemirror_mode": {
    "name": "ipython",
    "version": 3
   },
   "file_extension": ".py",
   "mimetype": "text/x-python",
   "name": "python",
   "nbconvert_exporter": "python",
   "pygments_lexer": "ipython3",
   "version": "3.10.8"
  },
  "vscode": {
   "interpreter": {
    "hash": "e7370f93d1d0cde622a1f8e1c04877d8463912d04d973331ad4851f04de6915a"
   }
  }
 },
 "nbformat": 4,
 "nbformat_minor": 5
}
